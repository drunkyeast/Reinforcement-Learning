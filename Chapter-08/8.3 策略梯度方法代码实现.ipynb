{
 "cells": [
  {
   "cell_type": "markdown",
   "id": "7421cef5",
   "metadata": {},
   "source": [
    "### 初始化环境"
   ]
  },
  {
   "cell_type": "code",
   "execution_count": 1,
   "id": "18cdf54d",
   "metadata": {},
   "outputs": [],
   "source": [
    "# 在jupyter notebook里env.render看不到窗口\n",
    "# 写一个helper类，用matplotlib刷新显示图像\n",
    "# 初始化传入env，调用helper的render即可\n",
    "from IPython import display # 导入display模块，用于在Jupyter Notebook中显示图像\n",
    "import matplotlib\n",
    "import matplotlib.pyplot as plt # 导入matplotlib库，用于绘制图像\n",
    "%matplotlib inline\n",
    "\n",
    "class GymHelper:\n",
    "    def __init__(self, env, figsize = (3, 3)):\n",
    "        self.env = env # 初始化Gym环境\n",
    "        self.figsize = figsize # 初始化绘图窗口大小\n",
    "        \n",
    "        plt.figure(figsize = figsize) # 创建绘图窗口\n",
    "        plt.title(self.env.spec.id) # 标题设为环境名\n",
    "        self.img = plt.imshow(env.render()) # 在绘图窗口中显示初始图像\n",
    "    \n",
    "    def render(self, title = None):\n",
    "        image_data = self.env.render() # 获取当前环境图像渲染数据\n",
    "        \n",
    "        self.img.set_data(image_data) # 更新绘图窗口中的图像数据\n",
    "        display.display(plt.gcf()) # 刷新显示\n",
    "        display.clear_output(wait = True) # 有新图片时再清除绘图窗口原有图像\n",
    "        if title: # 如果有标题，就显示标题\n",
    "            plt.title(title)"
   ]
  },
  {
   "cell_type": "code",
   "execution_count": 2,
   "id": "5881877f",
   "metadata": {},
   "outputs": [
    {
     "data": {
      "image/png": "[encoded data removed]",
      "text/plain": [
       "<Figure size 300x300 with 1 Axes>"
      ]
     },
     "metadata": {},
     "output_type": "display_data"
    }
   ],
   "source": [
    "# 导入gym库\n",
    "import gym\n",
    "\n",
    "# 创建CartPole环境，指定渲染模式为rgb_array，如果是在IDE中可以改为'human'\n",
    "env = gym.make('CartPole-v1', render_mode='rgb_array')\n",
    "# 重置环境\n",
    "env.reset()\n",
    "# 创建GymHelper\n",
    "gym_helper = GymHelper(env)\n",
    "\n",
    "# 循环N次\n",
    "for i in range(100):\n",
    "    gym_helper.render(title = str(i)) # 渲染环境\n",
    "    action = env.action_space.sample() # 从动作空间中随机选取一个动作\n",
    "    observation, reward, terminated, truncated, info = env.step(action) # 执行动作\n",
    "    if terminated or truncated: # 如果游戏结束，则结束循环\n",
    "        break\n",
    "\n",
    "# 游戏结束\n",
    "gym_helper.render(title = \"Finished\")\n",
    "# 关闭环境\n",
    "env.close()"
   ]
  },
  {
   "cell_type": "markdown",
   "id": "1a86c4be",
   "metadata": {},
   "source": [
    "环境介绍 https://www.gymlibrary.dev/environments/classic_control/cart_pole/"
   ]
  },
  {
   "cell_type": "markdown",
   "id": "294a8fd4",
   "metadata": {},
   "source": [
    "### 策略梯度"
   ]
  },
  {
   "cell_type": "code",
   "execution_count": 3,
   "id": "ce08e15f",
   "metadata": {},
   "outputs": [],
   "source": [
    "# 导入必要的库\n",
    "import torch\n",
    "import torch.nn as nn\n",
    "import torch.optim as optim\n",
    "import torch.nn.functional as F\n",
    "\n",
    "import numpy as np\n",
    "import sys\n",
    "import time\n",
    "import random\n",
    "import collections\n",
    "from tqdm import * # 用于显示进度条\n",
    "\n",
    "# 策略模型，给定状态生成各个动作的概率\n",
    "class PolicyModel(nn.Module):\n",
    "    def __init__(self, input_dim, output_dim):\n",
    "        super(PolicyModel, self).__init__()\n",
    "        \n",
    "        # 使用全连接层构建一个简单的神经网络，ReLU作为激活函数\n",
    "        # 最后加一个Softmax层，使得输出可以看作是概率分布\n",
    "        self.fc = nn.Sequential(\n",
    "            nn.Linear(input_dim, 128),\n",
    "            nn.ReLU(),\n",
    "            nn.Linear(128, 128),\n",
    "            nn.ReLU(),\n",
    "            nn.Linear(128, output_dim),\n",
    "        )\n",
    "\n",
    "    # 定义前向传播，输出动作概率\n",
    "    def forward(self, x):\n",
    "        action_prob = torch.sigmoid(self.fc(x)) # 动作空间只有0和1，因此采用sigmoid函数直接输出动作概率\n",
    "        return action_prob\n"
   ]
  },
  {
   "cell_type": "code",
   "execution_count": 4,
   "id": "23fb1098",
   "metadata": {},
   "outputs": [],
   "source": [
    "# 定义Policy Gradient Methods类\n",
    "class PGM:\n",
    "    # 构造函数，参数包含环境，学习率，折扣因子，经验回放缓冲区大小，目标网络更新频率\n",
    "    def __init__(self, env, learning_rate=0.001, gamma=0.99):\n",
    "        self.env = env\n",
    "        self.learning_rate = learning_rate\n",
    "        self.gamma = gamma\n",
    "\n",
    "        # 判断可用的设备是 CPU 还是 GPU\n",
    "        self.device = torch.device(\"cuda\" if torch.cuda.is_available() else \"cpu\")\n",
    "        # 定义策略网络\n",
    "        self.policy_model = PolicyModel(env.observation_space.shape[0], 1).to(self.device)\n",
    "        # 定义Adam优化器\n",
    "        self.optimizer = torch.optim.Adam(self.policy_model.parameters(), lr=learning_rate)\n",
    "\n",
    "    # 使用策略模型生成动作概率分布并采样\n",
    "    def choose_action(self, state):\n",
    "        # 将状态转换为tensor输入模型\n",
    "        state = torch.FloatTensor(np.array([state])).to(self.device)\n",
    "        probs = self.policy_model(state.to(self.device))\n",
    "        \n",
    "        # 生成分布后采样返回动作\n",
    "        m = torch.distributions.Bernoulli(probs)  # 伯努利分布\n",
    "        action = int(m.sample().item())  # 转为标量\n",
    "        return action\n",
    "    \n",
    "    # 模型更新\n",
    "    def update(self, buffer):\n",
    "        states, actions, rewards, next_states, dones = zip(*buffer)\n",
    "        states, actions, rewards = list(states), list(actions), list(rewards)\n",
    "        # 对奖励进行修正，考虑未来，并加入衰减因子\n",
    "        running_add = 0\n",
    "        for i in reversed(range(len(rewards))):\n",
    "            if rewards[i] == 0:\n",
    "                running_add = 0\n",
    "            else:\n",
    "                running_add = running_add * self.gamma + rewards[i]\n",
    "                rewards[i] = running_add\n",
    "\n",
    "        reward_mean = np.mean(rewards)  # 求奖励均值\n",
    "        reward_std = np.std(rewards)  # 求奖励标准差\n",
    "        for i in range(len(rewards)):\n",
    "            # 标准化奖励\n",
    "            rewards[i] = (rewards[i] - reward_mean) / reward_std\n",
    "\n",
    "        # 梯度下降\n",
    "        self.optimizer.zero_grad()\n",
    "        loss = 0  # 初始化损失\n",
    "        for i in range(len(rewards)):\n",
    "            state = states[i]\n",
    "            action = torch.FloatTensor([actions[i]])\n",
    "            reward = rewards[i]\n",
    "            state = torch.FloatTensor(np.array([state])).to(self.device)\n",
    "            action_prob = self.policy_model(state)\n",
    "            c = torch.distributions.Bernoulli(action_prob)\n",
    "            # 加权(reward)损失函数，加负号(将最大化问题转化为最小化问题)\n",
    "            loss = -c.log_prob(action.to(self.device)) * reward\n",
    "            loss.backward()\n",
    "        self.optimizer.step()\n"
   ]
  },
  {
   "cell_type": "code",
   "execution_count": 5,
   "id": "20a680b5",
   "metadata": {},
   "outputs": [
    {
     "name": "stdout",
     "output_type": "stream",
     "text": [
      "Episode 0: 24.0                                                                                                        \n",
      "Episode 200: 460.0                                                                                                     \n",
      "Episode 400: 410.0                                                                                                     \n",
      "Episode 600: 179.0                                                                                                     \n",
      "Episode 800: 96.0                                                                                                      \n",
      "Episode 1000: 160.0                                                                                                    \n",
      "Episode 1200: 500.0                                                                                                    \n",
      "Episode 1400: 379.0                                                                                                    \n",
      "Episode 1600: 293.0                                                                                                    \n",
      "Episode 1800: 156.0                                                                                                    \n",
      "100%|██████████████████████████████████████████████████████████████████████████████| 2000/2000 [57:36<00:00,  1.73s/it]\n"
     ]
    }
   ],
   "source": [
    "# 定义超参数\n",
    "max_episodes = 2000 # 训练episode数\n",
    "max_steps = 500 # 每个回合的最大步数\n",
    "# batch_size = 10 # 采样数\n",
    "\n",
    "# 创建DQN对象\n",
    "agent = PGM(env)\n",
    "# 定义保存每个回合奖励的列表\n",
    "episode_rewards = []\n",
    "\n",
    "# 开始循环，tqdm用于显示进度条并评估任务时间开销\n",
    "for episode in tqdm(range(max_episodes), file=sys.stdout):\n",
    "    # 重置环境并获取初始状态\n",
    "    state, _ = env.reset()\n",
    "    # 当前回合的奖励\n",
    "    episode_reward = 0\n",
    "    # 记录每个episode的信息\n",
    "    buffer = []\n",
    "\n",
    "    # 循环进行每一步操作\n",
    "    for step in range(max_steps):\n",
    "        # 根据当前状态选择动作\n",
    "        action = agent.choose_action(state)\n",
    "        # 执行动作，获取新的信息\n",
    "        next_state, reward, terminated, truncated, info = env.step(action)\n",
    "        # 判断是否达到终止状态\n",
    "        done = terminated or truncated\n",
    "        \n",
    "        # 将这个五元组加到buffer中\n",
    "        buffer.append((state, action, reward, next_state, done))\n",
    "        \n",
    "        # 累计奖励\n",
    "        episode_reward += reward\n",
    "        \n",
    "        # 更新当前状态\n",
    "        state = next_state\n",
    "        if done:\n",
    "            break\n",
    "        \n",
    "    # 更新策略\n",
    "    agent.update(buffer)\n",
    "    # 记录当前回合奖励值\n",
    "    episode_rewards.append(episode_reward)\n",
    "\n",
    "    # 打印中间值\n",
    "    if episode % (max_episodes // 10) == 0:\n",
    "        tqdm.write(\"Episode \" + str(episode) + \": \" + str(episode_reward))"
   ]
  },
  {
   "cell_type": "code",
   "execution_count": 7,
   "id": "442cc706",
   "metadata": {},
   "outputs": [
    {
     "data": {
      "image/png": "[encoded data removed]",
      "text/plain": [
       "<Figure size 640x480 with 1 Axes>"
      ]
     },
     "metadata": {},
     "output_type": "display_data"
    }
   ],
   "source": [
    "# 使用Matplotlib绘制奖励值的曲线图\n",
    "plt.plot(episode_rewards)\n",
    "plt.title(\"reward\")\n",
    "plt.show()"
   ]
  },
  {
   "cell_type": "code",
   "execution_count": 8,
   "id": "f5ab5837",
   "metadata": {},
   "outputs": [
    {
     "data": {
      "image/png": "[encoded data removed]",
      "text/plain": [
       "<Figure size 300x300 with 1 Axes>"
      ]
     },
     "metadata": {},
     "output_type": "display_data"
    }
   ],
   "source": [
    "# 重置环境，开始新的一轮游戏\n",
    "observation, _ = env.reset()\n",
    "# 创建GymHelper对象来辅助显示\n",
    "gym_helper = GymHelper(env, figsize = (3, 3))\n",
    "\n",
    "# 开始游戏\n",
    "for i in range(700):\n",
    "    # 渲染环境，title为当前步骤数\n",
    "    gym_helper.render(title = str(i))\n",
    "    \n",
    "    # 通过Q网络找到当前状态下的最优动作\n",
    "    action = agent.choose_action(observation)\n",
    "    # 执行action，获取新的信息\n",
    "    observation, reward, terminated, truncated, info = env.step(action)\n",
    "    \n",
    "    # 如果游戏结束，则结束当前循环\n",
    "    if terminated or truncated:\n",
    "        break\n",
    "\n",
    "# 游戏结束\n",
    "gym_helper.render(title = \"Finished\")\n",
    "# 关闭环境\n",
    "env.close()"
   ]
  },
  {
   "cell_type": "code",
   "execution_count": null,
   "id": "16644ec8",
   "metadata": {},
   "outputs": [],
   "source": []
  }
 ],
 "metadata": {
  "kernelspec": {
   "display_name": "Python 3 (ipykernel)",
   "language": "python",
   "name": "python3"
  },
  "language_info": {
   "codemirror_mode": {
    "name": "ipython",
    "version": 3
   },
   "file_extension": ".py",
   "mimetype": "text/x-python",
   "name": "python",
   "nbconvert_exporter": "python",
   "pygments_lexer": "ipython3",
   "version": "3.9.20"
  }
 },
 "nbformat": 4,
 "nbformat_minor": 5
}
